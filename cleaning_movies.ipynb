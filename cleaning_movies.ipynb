{
 "cells": [
  {
   "cell_type": "code",
   "execution_count": 1,
   "id": "db4d8779",
   "metadata": {},
   "outputs": [],
   "source": [
    "import json\n",
    "import pandas as pd\n",
    "import numpy as np"
   ]
  },
  {
   "cell_type": "code",
   "execution_count": 2,
   "id": "809c226d",
   "metadata": {},
   "outputs": [],
   "source": [
    "file_dir = '/Users/chaseweaver/Downloads/'"
   ]
  },
  {
   "cell_type": "code",
   "execution_count": 3,
   "id": "320e02f2",
   "metadata": {},
   "outputs": [],
   "source": [
    "file_name = f'{file_dir}wikipedia-movies.json'"
   ]
  },
  {
   "cell_type": "code",
   "execution_count": 4,
   "id": "79711bd6",
   "metadata": {},
   "outputs": [],
   "source": [
    "with open(file_name, mode = 'r') as file:\n",
    "    wiki_movies_raw = json.load(file)"
   ]
  },
  {
   "cell_type": "code",
   "execution_count": 5,
   "id": "487f0958",
   "metadata": {},
   "outputs": [
    {
     "data": {
      "text/plain": [
       "7311"
      ]
     },
     "execution_count": 5,
     "metadata": {},
     "output_type": "execute_result"
    }
   ],
   "source": [
    "len(wiki_movies_raw)"
   ]
  },
  {
   "cell_type": "markdown",
   "id": "3d905414",
   "metadata": {},
   "source": [
    "wiki_movies_raw[:-5]"
   ]
  },
  {
   "cell_type": "code",
   "execution_count": 6,
   "id": "715efb2a",
   "metadata": {},
   "outputs": [
    {
     "data": {
      "text/plain": [
       "[{'url': 'https://en.wikipedia.org/wiki/Benji:_Off_the_Leash!',\n",
       "  'year': 2004,\n",
       "  'imdb_link': 'https://www.imdb.com/title/tt0315273/',\n",
       "  'title': 'Benji: Off the Leash!',\n",
       "  'Directed by': 'Joe Camp',\n",
       "  'Written by': 'Joe Camp',\n",
       "  'Starring': ['Benji', 'Nick Whitaker', 'Shaggy', 'Gypsy the Cockatoo'],\n",
       "  'Music by': 'Antonio di Lorenzo',\n",
       "  'Productioncompany ': 'Mulberry Square Productions',\n",
       "  'Distributed by': 'Mulberry Square Productions',\n",
       "  'Release date': ['March 26, 2004', '(', '2004-03-26', ')'],\n",
       "  'Running time': '97 min',\n",
       "  'Country': 'United States',\n",
       "  'Language': 'English',\n",
       "  'Box office': '$3,817,362'},\n",
       " {'url': 'https://en.wikipedia.org/wiki/The_Best_Thief_in_the_World',\n",
       "  'year': 2004,\n",
       "  'imdb_link': 'https://www.imdb.com/title/tt0389796/',\n",
       "  'title': 'The Best Thief in the World',\n",
       "  'Directed by': 'Jacob Kornbluth',\n",
       "  'Produced by': ['Tim Perrell', 'Nicola Usborne'],\n",
       "  'Written by': 'Jacob Kornbluth',\n",
       "  'Starring': ['Marc Rozendaal',\n",
       "   'Michael Silverman',\n",
       "   'David Warshofsky',\n",
       "   'Audra McDonald',\n",
       "   'Lois Smith'],\n",
       "  'Music by': ['Prince Paul', 'and', 'Don Newkirk'],\n",
       "  'Cinematography': 'Ben Kutchins',\n",
       "  'Edited by': 'Stephanie Sterner',\n",
       "  'Distributed by': 'Showtime Networks',\n",
       "  'Release date': ['January 16, 2004', '(', '2004-01-16', ')'],\n",
       "  'Running time': '93 minutes',\n",
       "  'Country': 'United States',\n",
       "  'Language': 'English'},\n",
       " {'url': 'https://en.wikipedia.org/wiki/Beyond_the_Sea_(2004_film)',\n",
       "  'year': 2004,\n",
       "  'imdb_link': 'https://www.imdb.com/title/tt0363473/',\n",
       "  'title': 'Beyond the Sea',\n",
       "  'Directed by': 'Kevin Spacey',\n",
       "  'Produced by': ['Kevin Spacey',\n",
       "   'Phillip Barry',\n",
       "   'Dana Brunetti',\n",
       "   'Arthur Friedman',\n",
       "   'Jan Fantl',\n",
       "   'Andy Paterson'],\n",
       "  'Written by': ['Lewis Colick', 'Kevin Spacey'],\n",
       "  'Starring': ['Kevin Spacey', 'Kate Bosworth', 'Bob Hoskins', 'John Goodman'],\n",
       "  'Music by': 'Bobby Darin',\n",
       "  'Cinematography': 'Eduardo Serra',\n",
       "  'Edited by': 'Trevor Waite',\n",
       "  'Productioncompany ': 'Trigger Street Productions',\n",
       "  'Distributed by': ['Lionsgate Films',\n",
       "   '(USA)',\n",
       "   'Entertainment Film Distributors',\n",
       "   '(UK)',\n",
       "   'GAGA',\n",
       "   '(Japan)',\n",
       "   'Maple Pictures',\n",
       "   '(Canada)'],\n",
       "  'Release date': ['December 17, 2004', '(', '2004-12-17', ')'],\n",
       "  'Running time': '118 minutes',\n",
       "  'Country': 'United States',\n",
       "  'Language': 'English',\n",
       "  'Budget': '$25 million',\n",
       "  'Box office': '$8.4 million'},\n",
       " {'url': 'https://en.wikipedia.org/wiki/The_Big_Bounce_(2004_film)',\n",
       "  'year': 2004,\n",
       "  'imdb_link': 'https://www.imdb.com/title/tt0315824/',\n",
       "  'title': 'The Big Bounce',\n",
       "  'Directed by': 'George Armitage',\n",
       "  'Produced by': ['George Armitage', 'Steve Bing'],\n",
       "  'Screenplay by': 'Sebastian Gutierrez',\n",
       "  'Based on': ['The Big Bounce', 'by', 'Elmore Leonard'],\n",
       "  'Starring': ['Owen Wilson',\n",
       "   'Charlie Sheen',\n",
       "   'Morgan Freeman',\n",
       "   'Sara Foster',\n",
       "   'Gary Sinise'],\n",
       "  'Music by': 'George S. Clinton',\n",
       "  'Cinematography': 'Jeffrey L. Kimball',\n",
       "  'Edited by': 'Barry Malkin',\n",
       "  'Productioncompany ': 'Shangri-La Entertainment',\n",
       "  'Distributed by': 'Warner Bros. Pictures',\n",
       "  'Release date': ['January 30, 2004', '(', '2004-01-30', ')'],\n",
       "  'Running time': '88 minutes',\n",
       "  'Language': 'English',\n",
       "  'Budget': '$50 million',\n",
       "  'Box office': '$6.8 million'},\n",
       " {'url': 'https://en.wikipedia.org/wiki/Birth_(film)',\n",
       "  'year': 2004,\n",
       "  'imdb_link': 'https://www.imdb.com/title/tt0337876/',\n",
       "  'title': 'Birth',\n",
       "  'Directed by': 'Jonathan Glazer',\n",
       "  'Produced by': ['Lizie Gower', 'Nick Morris', 'Jean-Louis Piel'],\n",
       "  'Written by': ['Jean-Claude Carrière', 'Milo Addica', 'Jonathan Glazer'],\n",
       "  'Starring': ['Nicole Kidman',\n",
       "   'Cameron Bright',\n",
       "   'Danny Huston',\n",
       "   'Lauren Bacall'],\n",
       "  'Music by': 'Alexandre Desplat',\n",
       "  'Cinematography': 'Harris Savides',\n",
       "  'Edited by': ['Sam Sneade', 'Claus Wehlisch'],\n",
       "  'Distributed by': 'New Line Cinema',\n",
       "  'Release date': ['November 8, 2004', '(', '2004-11-08', ')'],\n",
       "  'Running time': '96 minutes',\n",
       "  'Country': 'United States',\n",
       "  'Language': 'English',\n",
       "  'Budget': '$20 million',\n",
       "  'Box office': '$23.9 million'}]"
      ]
     },
     "execution_count": 6,
     "metadata": {},
     "output_type": "execute_result"
    }
   ],
   "source": [
    "wiki_movies_raw[3600:3605]"
   ]
  },
  {
   "cell_type": "code",
   "execution_count": 7,
   "id": "621fd9e4",
   "metadata": {},
   "outputs": [],
   "source": [
    "kaggle_metadata = pd.read_csv(f'{file_dir}movies_metadata.csv', low_memory=False)\n",
    "ratings = pd.read_csv(f'{file_dir}ratings.csv')"
   ]
  },
  {
   "cell_type": "code",
   "execution_count": 8,
   "id": "11497c89",
   "metadata": {},
   "outputs": [
    {
     "data": {
      "text/html": [
       "<div>\n",
       "<style scoped>\n",
       "    .dataframe tbody tr th:only-of-type {\n",
       "        vertical-align: middle;\n",
       "    }\n",
       "\n",
       "    .dataframe tbody tr th {\n",
       "        vertical-align: top;\n",
       "    }\n",
       "\n",
       "    .dataframe thead th {\n",
       "        text-align: right;\n",
       "    }\n",
       "</style>\n",
       "<table border=\"1\" class=\"dataframe\">\n",
       "  <thead>\n",
       "    <tr style=\"text-align: right;\">\n",
       "      <th></th>\n",
       "      <th>userId</th>\n",
       "      <th>movieId</th>\n",
       "      <th>rating</th>\n",
       "      <th>timestamp</th>\n",
       "    </tr>\n",
       "  </thead>\n",
       "  <tbody>\n",
       "    <tr>\n",
       "      <th>0</th>\n",
       "      <td>1</td>\n",
       "      <td>110</td>\n",
       "      <td>1.0</td>\n",
       "      <td>1425941529</td>\n",
       "    </tr>\n",
       "    <tr>\n",
       "      <th>1</th>\n",
       "      <td>1</td>\n",
       "      <td>147</td>\n",
       "      <td>4.5</td>\n",
       "      <td>1425942435</td>\n",
       "    </tr>\n",
       "    <tr>\n",
       "      <th>2</th>\n",
       "      <td>1</td>\n",
       "      <td>858</td>\n",
       "      <td>5.0</td>\n",
       "      <td>1425941523</td>\n",
       "    </tr>\n",
       "    <tr>\n",
       "      <th>3</th>\n",
       "      <td>1</td>\n",
       "      <td>1221</td>\n",
       "      <td>5.0</td>\n",
       "      <td>1425941546</td>\n",
       "    </tr>\n",
       "    <tr>\n",
       "      <th>4</th>\n",
       "      <td>1</td>\n",
       "      <td>1246</td>\n",
       "      <td>5.0</td>\n",
       "      <td>1425941556</td>\n",
       "    </tr>\n",
       "  </tbody>\n",
       "</table>\n",
       "</div>"
      ],
      "text/plain": [
       "   userId  movieId  rating   timestamp\n",
       "0       1      110     1.0  1425941529\n",
       "1       1      147     4.5  1425942435\n",
       "2       1      858     5.0  1425941523\n",
       "3       1     1221     5.0  1425941546\n",
       "4       1     1246     5.0  1425941556"
      ]
     },
     "execution_count": 8,
     "metadata": {},
     "output_type": "execute_result"
    }
   ],
   "source": [
    "ratings.head()"
   ]
  },
  {
   "cell_type": "code",
   "execution_count": 9,
   "id": "423d2919",
   "metadata": {},
   "outputs": [],
   "source": [
    "wiki_movies_df = pd.DataFrame(wiki_movies_raw)"
   ]
  },
  {
   "cell_type": "code",
   "execution_count": 10,
   "id": "74185037",
   "metadata": {},
   "outputs": [
    {
     "data": {
      "text/html": [
       "<div>\n",
       "<style scoped>\n",
       "    .dataframe tbody tr th:only-of-type {\n",
       "        vertical-align: middle;\n",
       "    }\n",
       "\n",
       "    .dataframe tbody tr th {\n",
       "        vertical-align: top;\n",
       "    }\n",
       "\n",
       "    .dataframe thead th {\n",
       "        text-align: right;\n",
       "    }\n",
       "</style>\n",
       "<table border=\"1\" class=\"dataframe\">\n",
       "  <thead>\n",
       "    <tr style=\"text-align: right;\">\n",
       "      <th></th>\n",
       "      <th>url</th>\n",
       "      <th>year</th>\n",
       "      <th>imdb_link</th>\n",
       "      <th>title</th>\n",
       "      <th>Directed by</th>\n",
       "      <th>Produced by</th>\n",
       "      <th>Screenplay by</th>\n",
       "      <th>Story by</th>\n",
       "      <th>Based on</th>\n",
       "      <th>Starring</th>\n",
       "      <th>...</th>\n",
       "      <th>Predecessor</th>\n",
       "      <th>Founders</th>\n",
       "      <th>Area served</th>\n",
       "      <th>Products</th>\n",
       "      <th>Services</th>\n",
       "      <th>Russian</th>\n",
       "      <th>Hebrew</th>\n",
       "      <th>Revenue</th>\n",
       "      <th>Operating income</th>\n",
       "      <th>Polish</th>\n",
       "    </tr>\n",
       "  </thead>\n",
       "  <tbody>\n",
       "    <tr>\n",
       "      <th>0</th>\n",
       "      <td>https://en.wikipedia.org/wiki/The_Adventures_o...</td>\n",
       "      <td>1990.0</td>\n",
       "      <td>https://www.imdb.com/title/tt0098987/</td>\n",
       "      <td>The Adventures of Ford Fairlane</td>\n",
       "      <td>Renny Harlin</td>\n",
       "      <td>[Steve Perry, Joel Silver]</td>\n",
       "      <td>[David Arnott, James Cappe, Daniel Waters]</td>\n",
       "      <td>[David Arnott, James Cappe]</td>\n",
       "      <td>[Characters, by Rex Weiner]</td>\n",
       "      <td>[Andrew Dice Clay, Wayne Newton, Priscilla Pre...</td>\n",
       "      <td>...</td>\n",
       "      <td>NaN</td>\n",
       "      <td>NaN</td>\n",
       "      <td>NaN</td>\n",
       "      <td>NaN</td>\n",
       "      <td>NaN</td>\n",
       "      <td>NaN</td>\n",
       "      <td>NaN</td>\n",
       "      <td>NaN</td>\n",
       "      <td>NaN</td>\n",
       "      <td>NaN</td>\n",
       "    </tr>\n",
       "    <tr>\n",
       "      <th>1</th>\n",
       "      <td>https://en.wikipedia.org/wiki/After_Dark,_My_S...</td>\n",
       "      <td>1990.0</td>\n",
       "      <td>https://www.imdb.com/title/tt0098994/</td>\n",
       "      <td>After Dark, My Sweet</td>\n",
       "      <td>James Foley</td>\n",
       "      <td>[Ric Kidney, Robert Redlin]</td>\n",
       "      <td>[James Foley, Robert Redlin]</td>\n",
       "      <td>NaN</td>\n",
       "      <td>[the novel, After Dark, My Sweet, by, Jim Thom...</td>\n",
       "      <td>[Jason Patric, Rachel Ward, Bruce Dern, George...</td>\n",
       "      <td>...</td>\n",
       "      <td>NaN</td>\n",
       "      <td>NaN</td>\n",
       "      <td>NaN</td>\n",
       "      <td>NaN</td>\n",
       "      <td>NaN</td>\n",
       "      <td>NaN</td>\n",
       "      <td>NaN</td>\n",
       "      <td>NaN</td>\n",
       "      <td>NaN</td>\n",
       "      <td>NaN</td>\n",
       "    </tr>\n",
       "    <tr>\n",
       "      <th>2</th>\n",
       "      <td>https://en.wikipedia.org/wiki/Air_America_(film)</td>\n",
       "      <td>1990.0</td>\n",
       "      <td>https://www.imdb.com/title/tt0099005/</td>\n",
       "      <td>Air America</td>\n",
       "      <td>Roger Spottiswoode</td>\n",
       "      <td>Daniel Melnick</td>\n",
       "      <td>[John Eskow, Richard Rush]</td>\n",
       "      <td>NaN</td>\n",
       "      <td>[Air America, by, Christopher Robbins]</td>\n",
       "      <td>[Mel Gibson, Robert Downey Jr., Nancy Travis, ...</td>\n",
       "      <td>...</td>\n",
       "      <td>NaN</td>\n",
       "      <td>NaN</td>\n",
       "      <td>NaN</td>\n",
       "      <td>NaN</td>\n",
       "      <td>NaN</td>\n",
       "      <td>NaN</td>\n",
       "      <td>NaN</td>\n",
       "      <td>NaN</td>\n",
       "      <td>NaN</td>\n",
       "      <td>NaN</td>\n",
       "    </tr>\n",
       "    <tr>\n",
       "      <th>3</th>\n",
       "      <td>https://en.wikipedia.org/wiki/Alice_(1990_film)</td>\n",
       "      <td>1990.0</td>\n",
       "      <td>https://www.imdb.com/title/tt0099012/</td>\n",
       "      <td>Alice</td>\n",
       "      <td>Woody Allen</td>\n",
       "      <td>Robert Greenhut</td>\n",
       "      <td>NaN</td>\n",
       "      <td>NaN</td>\n",
       "      <td>NaN</td>\n",
       "      <td>[Alec Baldwin, Blythe Danner, Judy Davis, Mia ...</td>\n",
       "      <td>...</td>\n",
       "      <td>NaN</td>\n",
       "      <td>NaN</td>\n",
       "      <td>NaN</td>\n",
       "      <td>NaN</td>\n",
       "      <td>NaN</td>\n",
       "      <td>NaN</td>\n",
       "      <td>NaN</td>\n",
       "      <td>NaN</td>\n",
       "      <td>NaN</td>\n",
       "      <td>NaN</td>\n",
       "    </tr>\n",
       "    <tr>\n",
       "      <th>4</th>\n",
       "      <td>https://en.wikipedia.org/wiki/Almost_an_Angel</td>\n",
       "      <td>1990.0</td>\n",
       "      <td>https://www.imdb.com/title/tt0099018/</td>\n",
       "      <td>Almost an Angel</td>\n",
       "      <td>John Cornell</td>\n",
       "      <td>John Cornell</td>\n",
       "      <td>NaN</td>\n",
       "      <td>NaN</td>\n",
       "      <td>NaN</td>\n",
       "      <td>[Paul Hogan, Elias Koteas, Linda Kozlowski]</td>\n",
       "      <td>...</td>\n",
       "      <td>NaN</td>\n",
       "      <td>NaN</td>\n",
       "      <td>NaN</td>\n",
       "      <td>NaN</td>\n",
       "      <td>NaN</td>\n",
       "      <td>NaN</td>\n",
       "      <td>NaN</td>\n",
       "      <td>NaN</td>\n",
       "      <td>NaN</td>\n",
       "      <td>NaN</td>\n",
       "    </tr>\n",
       "  </tbody>\n",
       "</table>\n",
       "<p>5 rows × 193 columns</p>\n",
       "</div>"
      ],
      "text/plain": [
       "                                                 url    year  \\\n",
       "0  https://en.wikipedia.org/wiki/The_Adventures_o...  1990.0   \n",
       "1  https://en.wikipedia.org/wiki/After_Dark,_My_S...  1990.0   \n",
       "2   https://en.wikipedia.org/wiki/Air_America_(film)  1990.0   \n",
       "3    https://en.wikipedia.org/wiki/Alice_(1990_film)  1990.0   \n",
       "4      https://en.wikipedia.org/wiki/Almost_an_Angel  1990.0   \n",
       "\n",
       "                               imdb_link                            title  \\\n",
       "0  https://www.imdb.com/title/tt0098987/  The Adventures of Ford Fairlane   \n",
       "1  https://www.imdb.com/title/tt0098994/             After Dark, My Sweet   \n",
       "2  https://www.imdb.com/title/tt0099005/                      Air America   \n",
       "3  https://www.imdb.com/title/tt0099012/                            Alice   \n",
       "4  https://www.imdb.com/title/tt0099018/                  Almost an Angel   \n",
       "\n",
       "          Directed by                  Produced by  \\\n",
       "0        Renny Harlin   [Steve Perry, Joel Silver]   \n",
       "1         James Foley  [Ric Kidney, Robert Redlin]   \n",
       "2  Roger Spottiswoode               Daniel Melnick   \n",
       "3         Woody Allen              Robert Greenhut   \n",
       "4        John Cornell                 John Cornell   \n",
       "\n",
       "                                Screenplay by                     Story by  \\\n",
       "0  [David Arnott, James Cappe, Daniel Waters]  [David Arnott, James Cappe]   \n",
       "1                [James Foley, Robert Redlin]                          NaN   \n",
       "2                  [John Eskow, Richard Rush]                          NaN   \n",
       "3                                         NaN                          NaN   \n",
       "4                                         NaN                          NaN   \n",
       "\n",
       "                                            Based on  \\\n",
       "0                        [Characters, by Rex Weiner]   \n",
       "1  [the novel, After Dark, My Sweet, by, Jim Thom...   \n",
       "2             [Air America, by, Christopher Robbins]   \n",
       "3                                                NaN   \n",
       "4                                                NaN   \n",
       "\n",
       "                                            Starring  ... Predecessor  \\\n",
       "0  [Andrew Dice Clay, Wayne Newton, Priscilla Pre...  ...         NaN   \n",
       "1  [Jason Patric, Rachel Ward, Bruce Dern, George...  ...         NaN   \n",
       "2  [Mel Gibson, Robert Downey Jr., Nancy Travis, ...  ...         NaN   \n",
       "3  [Alec Baldwin, Blythe Danner, Judy Davis, Mia ...  ...         NaN   \n",
       "4        [Paul Hogan, Elias Koteas, Linda Kozlowski]  ...         NaN   \n",
       "\n",
       "  Founders Area served Products Services Russian Hebrew Revenue  \\\n",
       "0      NaN         NaN      NaN      NaN     NaN    NaN     NaN   \n",
       "1      NaN         NaN      NaN      NaN     NaN    NaN     NaN   \n",
       "2      NaN         NaN      NaN      NaN     NaN    NaN     NaN   \n",
       "3      NaN         NaN      NaN      NaN     NaN    NaN     NaN   \n",
       "4      NaN         NaN      NaN      NaN     NaN    NaN     NaN   \n",
       "\n",
       "  Operating income Polish  \n",
       "0              NaN    NaN  \n",
       "1              NaN    NaN  \n",
       "2              NaN    NaN  \n",
       "3              NaN    NaN  \n",
       "4              NaN    NaN  \n",
       "\n",
       "[5 rows x 193 columns]"
      ]
     },
     "execution_count": 10,
     "metadata": {},
     "output_type": "execute_result"
    }
   ],
   "source": [
    "wiki_movies_df.head()"
   ]
  },
  {
   "cell_type": "code",
   "execution_count": 11,
   "id": "406ef974",
   "metadata": {},
   "outputs": [
    {
     "data": {
      "text/plain": [
       "['Actor control',\n",
       " 'Adaptation by',\n",
       " 'Alias',\n",
       " 'Alma mater',\n",
       " 'Also known as',\n",
       " 'Animation by',\n",
       " 'Arabic',\n",
       " 'Area',\n",
       " 'Area served',\n",
       " 'Artist(s)',\n",
       " 'Attraction type',\n",
       " 'Audio format',\n",
       " 'Author',\n",
       " 'Based on',\n",
       " 'Biographical data',\n",
       " 'Bopomofo',\n",
       " 'Born',\n",
       " 'Box office',\n",
       " 'Budget',\n",
       " 'Camera setup',\n",
       " 'Cantonese',\n",
       " 'Characters',\n",
       " 'Children',\n",
       " 'Chinese',\n",
       " 'Cinematography',\n",
       " 'Closing date',\n",
       " 'Color process',\n",
       " 'Comics',\n",
       " 'Composer(s)',\n",
       " 'Coordinates',\n",
       " 'Country',\n",
       " 'Country of origin',\n",
       " 'Cover artist',\n",
       " 'Created by',\n",
       " 'Date premiered',\n",
       " 'Designer(s)',\n",
       " 'Developed by',\n",
       " 'Developer(s)',\n",
       " 'Dewey Decimal',\n",
       " 'Died',\n",
       " 'Directed by',\n",
       " 'Director',\n",
       " 'Distributed by',\n",
       " 'Distributor',\n",
       " 'Divisions',\n",
       " 'Duration',\n",
       " 'Edited by',\n",
       " 'Editor(s)',\n",
       " 'Ending theme',\n",
       " 'Engine',\n",
       " 'Engine(s)',\n",
       " 'Executive producer(s)',\n",
       " 'Family',\n",
       " 'Fate',\n",
       " 'Film(s)',\n",
       " 'Followed by',\n",
       " 'Format(s)',\n",
       " 'Formerly',\n",
       " 'Founded',\n",
       " 'Founder',\n",
       " 'Founders',\n",
       " 'French',\n",
       " 'Full name',\n",
       " 'Gender',\n",
       " 'Genre',\n",
       " 'Genre(s)',\n",
       " 'Genres',\n",
       " 'Gwoyeu Romatzyh',\n",
       " 'Hangul',\n",
       " 'Hanyu Pinyin',\n",
       " 'Headquarters',\n",
       " 'Hebrew',\n",
       " 'Height',\n",
       " 'Hepburn',\n",
       " 'Hokkien POJ',\n",
       " 'IPA',\n",
       " 'ISBN',\n",
       " 'Illustrator',\n",
       " 'Industry',\n",
       " 'Instruments',\n",
       " 'Japanese',\n",
       " 'Jyutping',\n",
       " 'Key people',\n",
       " 'LC Class',\n",
       " 'Label',\n",
       " 'Labels',\n",
       " 'Language',\n",
       " 'Length',\n",
       " 'Literal meaning',\n",
       " 'Literally',\n",
       " 'Mandarin',\n",
       " 'McCune–Reischauer',\n",
       " 'Media type',\n",
       " 'Mode(s)',\n",
       " 'Music',\n",
       " 'Music by',\n",
       " 'Name',\n",
       " 'Narrated by',\n",
       " 'Nationality',\n",
       " 'No. of episodes',\n",
       " 'No. of seasons',\n",
       " 'Novel(s)',\n",
       " 'Number of employees',\n",
       " 'OCLC',\n",
       " 'Occupation',\n",
       " 'Opening date',\n",
       " 'Opening theme',\n",
       " 'Operating income',\n",
       " 'Original language',\n",
       " 'Original language(s)',\n",
       " 'Original network',\n",
       " 'Original release',\n",
       " 'Original title',\n",
       " 'Original work',\n",
       " 'Other names',\n",
       " 'Owner',\n",
       " 'Pages',\n",
       " 'Parent',\n",
       " 'Parent(s)',\n",
       " 'Picture format',\n",
       " 'Place premiered',\n",
       " 'Platform(s)',\n",
       " 'Polish',\n",
       " 'Portrayed by',\n",
       " 'Preceded by',\n",
       " 'Predecessor',\n",
       " 'Produced by',\n",
       " 'Producer',\n",
       " 'Producer(s)',\n",
       " 'Production company',\n",
       " 'Production company(s)',\n",
       " 'Production location(s)',\n",
       " 'Productioncompanies ',\n",
       " 'Productioncompany ',\n",
       " 'Products',\n",
       " 'Programmer(s)',\n",
       " 'Publication date',\n",
       " 'Published',\n",
       " 'Published in English',\n",
       " 'Publisher',\n",
       " 'Publisher(s)',\n",
       " 'Recorded',\n",
       " 'Relatives',\n",
       " 'Release',\n",
       " 'Release date',\n",
       " 'Release(s)',\n",
       " 'Released',\n",
       " 'Replaced',\n",
       " 'Replaced by',\n",
       " 'Resting place',\n",
       " 'Revenue',\n",
       " 'Revised Romanization',\n",
       " 'Romanized',\n",
       " 'Running time',\n",
       " 'Russian',\n",
       " 'Screen story by',\n",
       " 'Screenplay by',\n",
       " 'Seasons',\n",
       " 'Series',\n",
       " 'Services',\n",
       " 'Set in',\n",
       " 'Setting',\n",
       " 'Simplified',\n",
       " 'Simplified Chinese',\n",
       " 'Species',\n",
       " 'Spouse(s)',\n",
       " 'Starring',\n",
       " 'Status',\n",
       " 'Story by',\n",
       " 'Subject',\n",
       " 'Subsidiaries',\n",
       " 'Suggested by',\n",
       " 'Television series',\n",
       " 'Text',\n",
       " 'Theme music composer',\n",
       " 'Total assets',\n",
       " 'Traditional',\n",
       " 'Traditional Chinese',\n",
       " 'Transcriptions',\n",
       " 'Type',\n",
       " 'Venue',\n",
       " 'Voices of',\n",
       " 'Wade–Giles',\n",
       " 'Website',\n",
       " 'Writer(s)',\n",
       " 'Written by',\n",
       " 'Yale Romanization',\n",
       " 'Years active',\n",
       " 'Yiddish',\n",
       " 'imdb_link',\n",
       " 'title',\n",
       " 'url',\n",
       " 'year']"
      ]
     },
     "execution_count": 11,
     "metadata": {},
     "output_type": "execute_result"
    }
   ],
   "source": [
    "sorted(wiki_movies_df.columns.tolist())"
   ]
  },
  {
   "cell_type": "code",
   "execution_count": 12,
   "id": "bd2c3c44",
   "metadata": {},
   "outputs": [],
   "source": [
    "wiki_movies = [movie for movie in wiki_movies_raw\n",
    "              if ('Director' in movie or 'Directed by' in movie) \n",
    "              and 'imdb_link' in movie \n",
    "              and 'No. of episodes' not in movie]"
   ]
  },
  {
   "cell_type": "code",
   "execution_count": 13,
   "id": "bf2d48b4",
   "metadata": {},
   "outputs": [
    {
     "data": {
      "text/html": [
       "<div>\n",
       "<style scoped>\n",
       "    .dataframe tbody tr th:only-of-type {\n",
       "        vertical-align: middle;\n",
       "    }\n",
       "\n",
       "    .dataframe tbody tr th {\n",
       "        vertical-align: top;\n",
       "    }\n",
       "\n",
       "    .dataframe thead th {\n",
       "        text-align: right;\n",
       "    }\n",
       "</style>\n",
       "<table border=\"1\" class=\"dataframe\">\n",
       "  <thead>\n",
       "    <tr style=\"text-align: right;\">\n",
       "      <th></th>\n",
       "      <th>url</th>\n",
       "      <th>year</th>\n",
       "      <th>imdb_link</th>\n",
       "      <th>title</th>\n",
       "      <th>Directed by</th>\n",
       "      <th>Produced by</th>\n",
       "      <th>Screenplay by</th>\n",
       "      <th>Story by</th>\n",
       "      <th>Based on</th>\n",
       "      <th>Starring</th>\n",
       "      <th>...</th>\n",
       "      <th>Hepburn</th>\n",
       "      <th>Literally</th>\n",
       "      <th>Cantonese</th>\n",
       "      <th>Chinese</th>\n",
       "      <th>Yiddish</th>\n",
       "      <th>Arabic</th>\n",
       "      <th>Romanized</th>\n",
       "      <th>Russian</th>\n",
       "      <th>Hebrew</th>\n",
       "      <th>Polish</th>\n",
       "    </tr>\n",
       "  </thead>\n",
       "  <tbody>\n",
       "    <tr>\n",
       "      <th>0</th>\n",
       "      <td>https://en.wikipedia.org/wiki/The_Adventures_o...</td>\n",
       "      <td>1990</td>\n",
       "      <td>https://www.imdb.com/title/tt0098987/</td>\n",
       "      <td>The Adventures of Ford Fairlane</td>\n",
       "      <td>Renny Harlin</td>\n",
       "      <td>[Steve Perry, Joel Silver]</td>\n",
       "      <td>[David Arnott, James Cappe, Daniel Waters]</td>\n",
       "      <td>[David Arnott, James Cappe]</td>\n",
       "      <td>[Characters, by Rex Weiner]</td>\n",
       "      <td>[Andrew Dice Clay, Wayne Newton, Priscilla Pre...</td>\n",
       "      <td>...</td>\n",
       "      <td>NaN</td>\n",
       "      <td>NaN</td>\n",
       "      <td>NaN</td>\n",
       "      <td>NaN</td>\n",
       "      <td>NaN</td>\n",
       "      <td>NaN</td>\n",
       "      <td>NaN</td>\n",
       "      <td>NaN</td>\n",
       "      <td>NaN</td>\n",
       "      <td>NaN</td>\n",
       "    </tr>\n",
       "    <tr>\n",
       "      <th>1</th>\n",
       "      <td>https://en.wikipedia.org/wiki/After_Dark,_My_S...</td>\n",
       "      <td>1990</td>\n",
       "      <td>https://www.imdb.com/title/tt0098994/</td>\n",
       "      <td>After Dark, My Sweet</td>\n",
       "      <td>James Foley</td>\n",
       "      <td>[Ric Kidney, Robert Redlin]</td>\n",
       "      <td>[James Foley, Robert Redlin]</td>\n",
       "      <td>NaN</td>\n",
       "      <td>[the novel, After Dark, My Sweet, by, Jim Thom...</td>\n",
       "      <td>[Jason Patric, Rachel Ward, Bruce Dern, George...</td>\n",
       "      <td>...</td>\n",
       "      <td>NaN</td>\n",
       "      <td>NaN</td>\n",
       "      <td>NaN</td>\n",
       "      <td>NaN</td>\n",
       "      <td>NaN</td>\n",
       "      <td>NaN</td>\n",
       "      <td>NaN</td>\n",
       "      <td>NaN</td>\n",
       "      <td>NaN</td>\n",
       "      <td>NaN</td>\n",
       "    </tr>\n",
       "    <tr>\n",
       "      <th>2</th>\n",
       "      <td>https://en.wikipedia.org/wiki/Air_America_(film)</td>\n",
       "      <td>1990</td>\n",
       "      <td>https://www.imdb.com/title/tt0099005/</td>\n",
       "      <td>Air America</td>\n",
       "      <td>Roger Spottiswoode</td>\n",
       "      <td>Daniel Melnick</td>\n",
       "      <td>[John Eskow, Richard Rush]</td>\n",
       "      <td>NaN</td>\n",
       "      <td>[Air America, by, Christopher Robbins]</td>\n",
       "      <td>[Mel Gibson, Robert Downey Jr., Nancy Travis, ...</td>\n",
       "      <td>...</td>\n",
       "      <td>NaN</td>\n",
       "      <td>NaN</td>\n",
       "      <td>NaN</td>\n",
       "      <td>NaN</td>\n",
       "      <td>NaN</td>\n",
       "      <td>NaN</td>\n",
       "      <td>NaN</td>\n",
       "      <td>NaN</td>\n",
       "      <td>NaN</td>\n",
       "      <td>NaN</td>\n",
       "    </tr>\n",
       "    <tr>\n",
       "      <th>3</th>\n",
       "      <td>https://en.wikipedia.org/wiki/Alice_(1990_film)</td>\n",
       "      <td>1990</td>\n",
       "      <td>https://www.imdb.com/title/tt0099012/</td>\n",
       "      <td>Alice</td>\n",
       "      <td>Woody Allen</td>\n",
       "      <td>Robert Greenhut</td>\n",
       "      <td>NaN</td>\n",
       "      <td>NaN</td>\n",
       "      <td>NaN</td>\n",
       "      <td>[Alec Baldwin, Blythe Danner, Judy Davis, Mia ...</td>\n",
       "      <td>...</td>\n",
       "      <td>NaN</td>\n",
       "      <td>NaN</td>\n",
       "      <td>NaN</td>\n",
       "      <td>NaN</td>\n",
       "      <td>NaN</td>\n",
       "      <td>NaN</td>\n",
       "      <td>NaN</td>\n",
       "      <td>NaN</td>\n",
       "      <td>NaN</td>\n",
       "      <td>NaN</td>\n",
       "    </tr>\n",
       "    <tr>\n",
       "      <th>4</th>\n",
       "      <td>https://en.wikipedia.org/wiki/Almost_an_Angel</td>\n",
       "      <td>1990</td>\n",
       "      <td>https://www.imdb.com/title/tt0099018/</td>\n",
       "      <td>Almost an Angel</td>\n",
       "      <td>John Cornell</td>\n",
       "      <td>John Cornell</td>\n",
       "      <td>NaN</td>\n",
       "      <td>NaN</td>\n",
       "      <td>NaN</td>\n",
       "      <td>[Paul Hogan, Elias Koteas, Linda Kozlowski]</td>\n",
       "      <td>...</td>\n",
       "      <td>NaN</td>\n",
       "      <td>NaN</td>\n",
       "      <td>NaN</td>\n",
       "      <td>NaN</td>\n",
       "      <td>NaN</td>\n",
       "      <td>NaN</td>\n",
       "      <td>NaN</td>\n",
       "      <td>NaN</td>\n",
       "      <td>NaN</td>\n",
       "      <td>NaN</td>\n",
       "    </tr>\n",
       "    <tr>\n",
       "      <th>...</th>\n",
       "      <td>...</td>\n",
       "      <td>...</td>\n",
       "      <td>...</td>\n",
       "      <td>...</td>\n",
       "      <td>...</td>\n",
       "      <td>...</td>\n",
       "      <td>...</td>\n",
       "      <td>...</td>\n",
       "      <td>...</td>\n",
       "      <td>...</td>\n",
       "      <td>...</td>\n",
       "      <td>...</td>\n",
       "      <td>...</td>\n",
       "      <td>...</td>\n",
       "      <td>...</td>\n",
       "      <td>...</td>\n",
       "      <td>...</td>\n",
       "      <td>...</td>\n",
       "      <td>...</td>\n",
       "      <td>...</td>\n",
       "      <td>...</td>\n",
       "    </tr>\n",
       "    <tr>\n",
       "      <th>7071</th>\n",
       "      <td>https://en.wikipedia.org/wiki/Holmes_%26_Watson</td>\n",
       "      <td>2018</td>\n",
       "      <td>https://www.imdb.com/title/tt1255919/</td>\n",
       "      <td>Holmes &amp; Watson</td>\n",
       "      <td>Etan Cohen</td>\n",
       "      <td>[Will Ferrell, Adam McKay, Jimmy Miller, Clayt...</td>\n",
       "      <td>Etan Cohen</td>\n",
       "      <td>NaN</td>\n",
       "      <td>[Sherlock Holmes, and, Dr. Watson, by, Sir Art...</td>\n",
       "      <td>[Will Ferrell, John C. Reilly, Rebecca Hall, R...</td>\n",
       "      <td>...</td>\n",
       "      <td>NaN</td>\n",
       "      <td>NaN</td>\n",
       "      <td>NaN</td>\n",
       "      <td>NaN</td>\n",
       "      <td>NaN</td>\n",
       "      <td>NaN</td>\n",
       "      <td>NaN</td>\n",
       "      <td>NaN</td>\n",
       "      <td>NaN</td>\n",
       "      <td>NaN</td>\n",
       "    </tr>\n",
       "    <tr>\n",
       "      <th>7072</th>\n",
       "      <td>https://en.wikipedia.org/wiki/Vice_(2018_film)</td>\n",
       "      <td>2018</td>\n",
       "      <td>https://www.imdb.com/title/tt6266538/</td>\n",
       "      <td>Vice</td>\n",
       "      <td>Adam McKay</td>\n",
       "      <td>[Brad Pitt, Dede Gardner, Jeremy Kleiner, Kevi...</td>\n",
       "      <td>NaN</td>\n",
       "      <td>NaN</td>\n",
       "      <td>NaN</td>\n",
       "      <td>[Christian Bale, Amy Adams, Steve Carell, Sam ...</td>\n",
       "      <td>...</td>\n",
       "      <td>NaN</td>\n",
       "      <td>NaN</td>\n",
       "      <td>NaN</td>\n",
       "      <td>NaN</td>\n",
       "      <td>NaN</td>\n",
       "      <td>NaN</td>\n",
       "      <td>NaN</td>\n",
       "      <td>NaN</td>\n",
       "      <td>NaN</td>\n",
       "      <td>NaN</td>\n",
       "    </tr>\n",
       "    <tr>\n",
       "      <th>7073</th>\n",
       "      <td>https://en.wikipedia.org/wiki/On_the_Basis_of_Sex</td>\n",
       "      <td>2018</td>\n",
       "      <td>https://www.imdb.com/title/tt4669788/</td>\n",
       "      <td>On the Basis of Sex</td>\n",
       "      <td>Mimi Leder</td>\n",
       "      <td>Robert W. Cort</td>\n",
       "      <td>NaN</td>\n",
       "      <td>NaN</td>\n",
       "      <td>NaN</td>\n",
       "      <td>[Felicity Jones, Armie Hammer, Justin Theroux,...</td>\n",
       "      <td>...</td>\n",
       "      <td>NaN</td>\n",
       "      <td>NaN</td>\n",
       "      <td>NaN</td>\n",
       "      <td>NaN</td>\n",
       "      <td>NaN</td>\n",
       "      <td>NaN</td>\n",
       "      <td>NaN</td>\n",
       "      <td>NaN</td>\n",
       "      <td>NaN</td>\n",
       "      <td>NaN</td>\n",
       "    </tr>\n",
       "    <tr>\n",
       "      <th>7074</th>\n",
       "      <td>https://en.wikipedia.org/wiki/Destroyer_(2018_...</td>\n",
       "      <td>2018</td>\n",
       "      <td>https://www.imdb.com/title/tt7137380/</td>\n",
       "      <td>Destroyer</td>\n",
       "      <td>Karyn Kusama</td>\n",
       "      <td>[Fred Berger, Phil Hay, Matt Manfredi]</td>\n",
       "      <td>NaN</td>\n",
       "      <td>NaN</td>\n",
       "      <td>NaN</td>\n",
       "      <td>[Nicole Kidman, Sebastian Stan, Toby Kebbell, ...</td>\n",
       "      <td>...</td>\n",
       "      <td>NaN</td>\n",
       "      <td>NaN</td>\n",
       "      <td>NaN</td>\n",
       "      <td>NaN</td>\n",
       "      <td>NaN</td>\n",
       "      <td>NaN</td>\n",
       "      <td>NaN</td>\n",
       "      <td>NaN</td>\n",
       "      <td>NaN</td>\n",
       "      <td>NaN</td>\n",
       "    </tr>\n",
       "    <tr>\n",
       "      <th>7075</th>\n",
       "      <td>https://en.wikipedia.org/wiki/Black_Mirror:_Ba...</td>\n",
       "      <td>2018</td>\n",
       "      <td>https://www.imdb.com/title/tt9495224/</td>\n",
       "      <td>Bandersnatch</td>\n",
       "      <td>David Slade</td>\n",
       "      <td>Russell McLean</td>\n",
       "      <td>NaN</td>\n",
       "      <td>NaN</td>\n",
       "      <td>NaN</td>\n",
       "      <td>[Fionn Whitehead, Will Poulter, Craig Parkinso...</td>\n",
       "      <td>...</td>\n",
       "      <td>NaN</td>\n",
       "      <td>NaN</td>\n",
       "      <td>NaN</td>\n",
       "      <td>NaN</td>\n",
       "      <td>NaN</td>\n",
       "      <td>NaN</td>\n",
       "      <td>NaN</td>\n",
       "      <td>NaN</td>\n",
       "      <td>NaN</td>\n",
       "      <td>NaN</td>\n",
       "    </tr>\n",
       "  </tbody>\n",
       "</table>\n",
       "<p>7076 rows × 75 columns</p>\n",
       "</div>"
      ],
      "text/plain": [
       "                                                    url  year  \\\n",
       "0     https://en.wikipedia.org/wiki/The_Adventures_o...  1990   \n",
       "1     https://en.wikipedia.org/wiki/After_Dark,_My_S...  1990   \n",
       "2      https://en.wikipedia.org/wiki/Air_America_(film)  1990   \n",
       "3       https://en.wikipedia.org/wiki/Alice_(1990_film)  1990   \n",
       "4         https://en.wikipedia.org/wiki/Almost_an_Angel  1990   \n",
       "...                                                 ...   ...   \n",
       "7071    https://en.wikipedia.org/wiki/Holmes_%26_Watson  2018   \n",
       "7072     https://en.wikipedia.org/wiki/Vice_(2018_film)  2018   \n",
       "7073  https://en.wikipedia.org/wiki/On_the_Basis_of_Sex  2018   \n",
       "7074  https://en.wikipedia.org/wiki/Destroyer_(2018_...  2018   \n",
       "7075  https://en.wikipedia.org/wiki/Black_Mirror:_Ba...  2018   \n",
       "\n",
       "                                  imdb_link                            title  \\\n",
       "0     https://www.imdb.com/title/tt0098987/  The Adventures of Ford Fairlane   \n",
       "1     https://www.imdb.com/title/tt0098994/             After Dark, My Sweet   \n",
       "2     https://www.imdb.com/title/tt0099005/                      Air America   \n",
       "3     https://www.imdb.com/title/tt0099012/                            Alice   \n",
       "4     https://www.imdb.com/title/tt0099018/                  Almost an Angel   \n",
       "...                                     ...                              ...   \n",
       "7071  https://www.imdb.com/title/tt1255919/                  Holmes & Watson   \n",
       "7072  https://www.imdb.com/title/tt6266538/                             Vice   \n",
       "7073  https://www.imdb.com/title/tt4669788/              On the Basis of Sex   \n",
       "7074  https://www.imdb.com/title/tt7137380/                        Destroyer   \n",
       "7075  https://www.imdb.com/title/tt9495224/                     Bandersnatch   \n",
       "\n",
       "             Directed by                                        Produced by  \\\n",
       "0           Renny Harlin                         [Steve Perry, Joel Silver]   \n",
       "1            James Foley                        [Ric Kidney, Robert Redlin]   \n",
       "2     Roger Spottiswoode                                     Daniel Melnick   \n",
       "3            Woody Allen                                    Robert Greenhut   \n",
       "4           John Cornell                                       John Cornell   \n",
       "...                  ...                                                ...   \n",
       "7071          Etan Cohen  [Will Ferrell, Adam McKay, Jimmy Miller, Clayt...   \n",
       "7072          Adam McKay  [Brad Pitt, Dede Gardner, Jeremy Kleiner, Kevi...   \n",
       "7073          Mimi Leder                                     Robert W. Cort   \n",
       "7074        Karyn Kusama             [Fred Berger, Phil Hay, Matt Manfredi]   \n",
       "7075         David Slade                                     Russell McLean   \n",
       "\n",
       "                                   Screenplay by                     Story by  \\\n",
       "0     [David Arnott, James Cappe, Daniel Waters]  [David Arnott, James Cappe]   \n",
       "1                   [James Foley, Robert Redlin]                          NaN   \n",
       "2                     [John Eskow, Richard Rush]                          NaN   \n",
       "3                                            NaN                          NaN   \n",
       "4                                            NaN                          NaN   \n",
       "...                                          ...                          ...   \n",
       "7071                                  Etan Cohen                          NaN   \n",
       "7072                                         NaN                          NaN   \n",
       "7073                                         NaN                          NaN   \n",
       "7074                                         NaN                          NaN   \n",
       "7075                                         NaN                          NaN   \n",
       "\n",
       "                                               Based on  \\\n",
       "0                           [Characters, by Rex Weiner]   \n",
       "1     [the novel, After Dark, My Sweet, by, Jim Thom...   \n",
       "2                [Air America, by, Christopher Robbins]   \n",
       "3                                                   NaN   \n",
       "4                                                   NaN   \n",
       "...                                                 ...   \n",
       "7071  [Sherlock Holmes, and, Dr. Watson, by, Sir Art...   \n",
       "7072                                                NaN   \n",
       "7073                                                NaN   \n",
       "7074                                                NaN   \n",
       "7075                                                NaN   \n",
       "\n",
       "                                               Starring  ... Hepburn  \\\n",
       "0     [Andrew Dice Clay, Wayne Newton, Priscilla Pre...  ...     NaN   \n",
       "1     [Jason Patric, Rachel Ward, Bruce Dern, George...  ...     NaN   \n",
       "2     [Mel Gibson, Robert Downey Jr., Nancy Travis, ...  ...     NaN   \n",
       "3     [Alec Baldwin, Blythe Danner, Judy Davis, Mia ...  ...     NaN   \n",
       "4           [Paul Hogan, Elias Koteas, Linda Kozlowski]  ...     NaN   \n",
       "...                                                 ...  ...     ...   \n",
       "7071  [Will Ferrell, John C. Reilly, Rebecca Hall, R...  ...     NaN   \n",
       "7072  [Christian Bale, Amy Adams, Steve Carell, Sam ...  ...     NaN   \n",
       "7073  [Felicity Jones, Armie Hammer, Justin Theroux,...  ...     NaN   \n",
       "7074  [Nicole Kidman, Sebastian Stan, Toby Kebbell, ...  ...     NaN   \n",
       "7075  [Fionn Whitehead, Will Poulter, Craig Parkinso...  ...     NaN   \n",
       "\n",
       "     Literally Cantonese Chinese Yiddish Arabic Romanized Russian Hebrew  \\\n",
       "0          NaN       NaN     NaN     NaN    NaN       NaN     NaN    NaN   \n",
       "1          NaN       NaN     NaN     NaN    NaN       NaN     NaN    NaN   \n",
       "2          NaN       NaN     NaN     NaN    NaN       NaN     NaN    NaN   \n",
       "3          NaN       NaN     NaN     NaN    NaN       NaN     NaN    NaN   \n",
       "4          NaN       NaN     NaN     NaN    NaN       NaN     NaN    NaN   \n",
       "...        ...       ...     ...     ...    ...       ...     ...    ...   \n",
       "7071       NaN       NaN     NaN     NaN    NaN       NaN     NaN    NaN   \n",
       "7072       NaN       NaN     NaN     NaN    NaN       NaN     NaN    NaN   \n",
       "7073       NaN       NaN     NaN     NaN    NaN       NaN     NaN    NaN   \n",
       "7074       NaN       NaN     NaN     NaN    NaN       NaN     NaN    NaN   \n",
       "7075       NaN       NaN     NaN     NaN    NaN       NaN     NaN    NaN   \n",
       "\n",
       "     Polish  \n",
       "0       NaN  \n",
       "1       NaN  \n",
       "2       NaN  \n",
       "3       NaN  \n",
       "4       NaN  \n",
       "...     ...  \n",
       "7071    NaN  \n",
       "7072    NaN  \n",
       "7073    NaN  \n",
       "7074    NaN  \n",
       "7075    NaN  \n",
       "\n",
       "[7076 rows x 75 columns]"
      ]
     },
     "execution_count": 13,
     "metadata": {},
     "output_type": "execute_result"
    }
   ],
   "source": [
    "pd.DataFrame(wiki_movies)"
   ]
  },
  {
   "cell_type": "code",
   "execution_count": 14,
   "id": "4c2d38e3",
   "metadata": {},
   "outputs": [],
   "source": [
    "def clean_movie(movie):\n",
    "    movie = dict(movie) #create non-destructive copy\n",
    "    alt_titles = {}\n",
    "    for key in ['Also known as','Arabic','Cantonese','Chinese','French',\n",
    "                'Hangul','Hebrew','Hepburn','Japanese','Literally',\n",
    "                'Mandarin','McCune–Reischauer','Original title','Polish',\n",
    "                'Revised Romanization','Romanized','Russian',\n",
    "                'Simplified','Traditional','Yiddish']:\n",
    "        if key in movie:\n",
    "            alt_titles[key] = movie[key]\n",
    "            movie.pop(key)\n",
    "    if len(alt_titles) > 0:\n",
    "        movie['alt_titles'] = alt_titles\n",
    "        \n",
    "    # merge column names\n",
    "    def change_column_name(old_name, new_name):\n",
    "        if old_name in movie:\n",
    "            movie[new_name] = movie.pop(old_name)\n",
    "            \n",
    "    change_column_name('Adaptation by', 'Writer(s)')\n",
    "    change_column_name('Country of origin', 'Country')\n",
    "    change_column_name('Directed by', 'Director')\n",
    "    change_column_name('Distributed by', 'Distributor')\n",
    "    change_column_name('Edited by', 'Editor(s)')\n",
    "    change_column_name('Length', 'Running time')\n",
    "    change_column_name('Original release', 'Release date')\n",
    "    change_column_name('Music by', 'Composer(s)')\n",
    "    change_column_name('Produced by', 'Producer(s)')\n",
    "    change_column_name('Producer', 'Producer(s)')\n",
    "    change_column_name('Productioncompanies ', 'Production company(s)')\n",
    "    change_column_name('Productioncompany ', 'Production company(s)')\n",
    "    change_column_name('Released', 'Release Date')\n",
    "    change_column_name('Release Date', 'Release date')\n",
    "    change_column_name('Screen story by', 'Writer(s)')\n",
    "    change_column_name('Screenplay by', 'Writer(s)')\n",
    "    change_column_name('Story by', 'Writer(s)')\n",
    "    change_column_name('Theme music composer', 'Composer(s)')\n",
    "    change_column_name('Written by', 'Writer(s)')\n",
    "        \n",
    "    return movie\n",
    "    "
   ]
  },
  {
   "cell_type": "code",
   "execution_count": 15,
   "id": "cf4c4004",
   "metadata": {},
   "outputs": [
    {
     "data": {
      "text/plain": [
       "['Animation by',\n",
       " 'Audio format',\n",
       " 'Based on',\n",
       " 'Box office',\n",
       " 'Budget',\n",
       " 'Cinematography',\n",
       " 'Color process',\n",
       " 'Composer(s)',\n",
       " 'Country',\n",
       " 'Created by',\n",
       " 'Director',\n",
       " 'Distributor',\n",
       " 'Editor(s)',\n",
       " 'Executive producer(s)',\n",
       " 'Followed by',\n",
       " 'Genre',\n",
       " 'Label',\n",
       " 'Language',\n",
       " 'Narrated by',\n",
       " 'Original language(s)',\n",
       " 'Original network',\n",
       " 'Picture format',\n",
       " 'Preceded by',\n",
       " 'Producer(s)',\n",
       " 'Production company(s)',\n",
       " 'Production location(s)',\n",
       " 'Recorded',\n",
       " 'Release date',\n",
       " 'Running time',\n",
       " 'Starring',\n",
       " 'Suggested by',\n",
       " 'Venue',\n",
       " 'Voices of',\n",
       " 'Writer(s)',\n",
       " 'alt_titles',\n",
       " 'imdb_link',\n",
       " 'title',\n",
       " 'url',\n",
       " 'year']"
      ]
     },
     "execution_count": 15,
     "metadata": {},
     "output_type": "execute_result"
    }
   ],
   "source": [
    "clean_movies = [clean_movie(movie) for movie in wiki_movies]\n",
    "wiki_movies_df = pd.DataFrame(clean_movies)\n",
    "sorted(wiki_movies_df.columns.tolist())"
   ]
  },
  {
   "cell_type": "code",
   "execution_count": null,
   "id": "83c5813c",
   "metadata": {},
   "outputs": [],
   "source": []
  },
  {
   "cell_type": "code",
   "execution_count": 16,
   "id": "88852b23",
   "metadata": {},
   "outputs": [
    {
     "name": "stdout",
     "output_type": "stream",
     "text": [
      "7076\n",
      "7033\n"
     ]
    }
   ],
   "source": [
    "wiki_movies_df['imdb_id'] = wiki_movies_df['imdb_link'].str.extract(r'(tt\\d{7})')\n",
    "print(len(wiki_movies_df))\n",
    "wiki_movies_df.drop_duplicates(subset='imdb_id', inplace=True)\n",
    "print(len(wiki_movies_df))\n",
    "# wiki_movies_df.head()"
   ]
  },
  {
   "cell_type": "code",
   "execution_count": 17,
   "id": "e1310348",
   "metadata": {},
   "outputs": [
    {
     "data": {
      "text/plain": [
       "[['url', 0],\n",
       " ['year', 0],\n",
       " ['imdb_link', 0],\n",
       " ['title', 1],\n",
       " ['Based on', 4852],\n",
       " ['Starring', 184],\n",
       " ['Narrated by', 6752],\n",
       " ['Cinematography', 691],\n",
       " ['Release date', 32],\n",
       " ['Running time', 139],\n",
       " ['Country', 236],\n",
       " ['Language', 244],\n",
       " ['Budget', 2295],\n",
       " ['Box office', 1548],\n",
       " ['Director', 0],\n",
       " ['Distributor', 357],\n",
       " ['Editor(s)', 548],\n",
       " ['Composer(s)', 518],\n",
       " ['Producer(s)', 202],\n",
       " ['Production company(s)', 1678],\n",
       " ['Writer(s)', 199],\n",
       " ['Genre', 6923],\n",
       " ['Original language(s)', 6875],\n",
       " ['Original network', 6908],\n",
       " ['Executive producer(s)', 6936],\n",
       " ['Production location(s)', 6986],\n",
       " ['Picture format', 6969],\n",
       " ['Audio format', 6972],\n",
       " ['Voices of', 7031],\n",
       " ['Followed by', 7024],\n",
       " ['Created by', 7023],\n",
       " ['Preceded by', 7023],\n",
       " ['Suggested by', 7032],\n",
       " ['alt_titles', 7012],\n",
       " ['Recorded', 7031],\n",
       " ['Venue', 7032],\n",
       " ['Label', 7031],\n",
       " ['Animation by', 7031],\n",
       " ['Color process', 7032],\n",
       " ['imdb_id', 0]]"
      ]
     },
     "execution_count": 17,
     "metadata": {},
     "output_type": "execute_result"
    }
   ],
   "source": [
    "[[column,wiki_movies_df[column].isnull().sum()] for column in wiki_movies_df.columns]"
   ]
  },
  {
   "cell_type": "code",
   "execution_count": 18,
   "id": "e3e18d77",
   "metadata": {},
   "outputs": [],
   "source": [
    "# all_columns = wiki_movies_df.columns.tolist()"
   ]
  },
  {
   "cell_type": "code",
   "execution_count": 19,
   "id": "25c088df",
   "metadata": {},
   "outputs": [],
   "source": [
    "# all_columns\n",
    "# #find number of null values per column\n",
    "# for column in all_columns:\n",
    "#     nulls = wiki_movies_df[column].isnull().sum()\n",
    "#     print(\"# of null values in the\",column, \"column is\", nulls)"
   ]
  },
  {
   "cell_type": "code",
   "execution_count": 20,
   "id": "cd68b8e7",
   "metadata": {},
   "outputs": [],
   "source": [
    "wiki_columns_to_keep = [column for column in wiki_movies_df.columns if wiki_movies_df[column].isnull().sum() < len(wiki_movies_df) * 0.9]\n",
    "wiki_movies_df = wiki_movies_df[wiki_columns_to_keep]"
   ]
  },
  {
   "cell_type": "code",
   "execution_count": 21,
   "id": "e03af6f1",
   "metadata": {},
   "outputs": [],
   "source": [
    "box_office = wiki_movies_df['Box office'].dropna()"
   ]
  },
  {
   "cell_type": "code",
   "execution_count": 22,
   "id": "f1ad58cb",
   "metadata": {},
   "outputs": [
    {
     "data": {
      "text/plain": [
       "0          $21.4 million\n",
       "1           $2.7 million\n",
       "2            $57,718,089\n",
       "3             $7,331,647\n",
       "4       $6,939,946 (USA)\n",
       "              ...       \n",
       "7070       $19.4 million\n",
       "7071       $41.9 million\n",
       "7072       $76.1 million\n",
       "7073       $38.4 million\n",
       "7074        $5.5 million\n",
       "Name: Box office, Length: 5485, dtype: object"
      ]
     },
     "execution_count": 22,
     "metadata": {},
     "output_type": "execute_result"
    }
   ],
   "source": [
    "box_office"
   ]
  },
  {
   "cell_type": "code",
   "execution_count": 23,
   "id": "ff11a72d",
   "metadata": {},
   "outputs": [],
   "source": [
    "def is_not_a_string(x):\n",
    "    return type(x) != str\n",
    "#WORKS BUT EASIER TO USE LAMBDA"
   ]
  },
  {
   "cell_type": "code",
   "execution_count": 24,
   "id": "4495a778",
   "metadata": {},
   "outputs": [
    {
     "data": {
      "text/plain": [
       "34                           [US$, 4,212,828]\n",
       "54      [$6,698,361 (, United States, ), [2]]\n",
       "74                    [$6,488,144, (US), [1]]\n",
       "126                [US$1,531,489, (domestic)]\n",
       "130                          [US$, 4,803,039]\n",
       "                        ...                  \n",
       "6980               [$99.6, million, [4], [5]]\n",
       "6994                   [$365.6, million, [1]]\n",
       "6995                         [$53.8, million]\n",
       "7015                     [$435, million, [7]]\n",
       "7048                   [$529.3, million, [4]]\n",
       "Name: Box office, Length: 135, dtype: object"
      ]
     },
     "execution_count": 24,
     "metadata": {},
     "output_type": "execute_result"
    }
   ],
   "source": [
    "box_office[box_office.map(lambda x: type(x) != str)]"
   ]
  },
  {
   "cell_type": "code",
   "execution_count": 25,
   "id": "9004afb5",
   "metadata": {},
   "outputs": [],
   "source": [
    "box_office = box_office.apply(lambda x: ' '.join(x) if type(x) == list else x)"
   ]
  },
  {
   "cell_type": "code",
   "execution_count": 26,
   "id": "b302e91d",
   "metadata": {},
   "outputs": [
    {
     "data": {
      "text/plain": [
       "0          $21.4 million\n",
       "1           $2.7 million\n",
       "2            $57,718,089\n",
       "3             $7,331,647\n",
       "4       $6,939,946 (USA)\n",
       "              ...       \n",
       "7070       $19.4 million\n",
       "7071       $41.9 million\n",
       "7072       $76.1 million\n",
       "7073       $38.4 million\n",
       "7074        $5.5 million\n",
       "Name: Box office, Length: 5485, dtype: object"
      ]
     },
     "execution_count": 26,
     "metadata": {},
     "output_type": "execute_result"
    }
   ],
   "source": [
    "box_office"
   ]
  },
  {
   "cell_type": "code",
   "execution_count": 27,
   "id": "151d0996",
   "metadata": {},
   "outputs": [],
   "source": [
    "import re"
   ]
  },
  {
   "cell_type": "code",
   "execution_count": 28,
   "id": "e4346d7b",
   "metadata": {},
   "outputs": [
    {
     "data": {
      "text/plain": [
       "3896"
      ]
     },
     "execution_count": 28,
     "metadata": {},
     "output_type": "execute_result"
    }
   ],
   "source": [
    "#form_one = r'\\$\\s*\\d+\\.?\\d*\\s*[mb]illi?on'\n",
    "form_one = r'\\$\\d+\\.?\\d*\\s*[mb]illion'\n",
    "box_office.str.contains(form_one,flags = re.IGNORECASE, na=False).sum()"
   ]
  },
  {
   "cell_type": "code",
   "execution_count": 29,
   "id": "5f62ad36",
   "metadata": {},
   "outputs": [
    {
     "data": {
      "text/plain": [
       "1544"
      ]
     },
     "execution_count": 29,
     "metadata": {},
     "output_type": "execute_result"
    }
   ],
   "source": [
    "#form_two = r'\\$\\s*\\d{1,3}(?:[,\\.]\\d{3})+(?!\\s[mb]illion)'\n",
    "form_two = r'\\$\\d{1,3}(?:,\\d{3})+'\n",
    "box_office.str.contains(form_two, flags=re.IGNORECASE, na=False).sum()"
   ]
  },
  {
   "cell_type": "code",
   "execution_count": 30,
   "id": "c0e64d0e",
   "metadata": {},
   "outputs": [],
   "source": [
    "form_one = r'\\$\\s*\\d+\\.?\\d*\\s*[mb]illi?on'\n",
    "form_two = r'\\$\\s*\\d{1,3}(?:[,\\.]\\d{3})+(?!\\s[mb]illion)'"
   ]
  },
  {
   "cell_type": "code",
   "execution_count": 31,
   "id": "8784767c",
   "metadata": {},
   "outputs": [],
   "source": [
    "matches_form_one = box_office.str.contains(form_one, flags=re.IGNORECASE, na=False)\n",
    "matches_form_two = box_office.str.contains(form_two, flags=re.IGNORECASE, na=False)"
   ]
  },
  {
   "cell_type": "code",
   "execution_count": 32,
   "id": "9fb47026",
   "metadata": {},
   "outputs": [],
   "source": [
    "# this will throw an error!\n",
    "# box_office[(not matches_form_one) and (not matches_form_two)]"
   ]
  },
  {
   "cell_type": "code",
   "execution_count": 33,
   "id": "c2ae7a66",
   "metadata": {},
   "outputs": [
    {
     "data": {
      "text/plain": [
       "110              $4.35-4.37 million\n",
       "600                      $5000 (US)\n",
       "1070                     35,254,617\n",
       "1480                     £3 million\n",
       "1865                   ¥1.1 billion\n",
       "2032                            N/A\n",
       "2091                           $309\n",
       "2665    926,423 admissions (France)\n",
       "3088      $32 [2] –33.1 million [1]\n",
       "3631                            TBA\n",
       "3859             $38.9–40.3 million\n",
       "3879       CN¥3.650 million (China)\n",
       "4116                     £7,385,434\n",
       "4261             $20.7–23.9 million\n",
       "4306                         $20-30\n",
       "4561        $45.2k (only in Turkey)\n",
       "5447                          £2.56\n",
       "5784                       413 733$\n",
       "6013                        Unknown\n",
       "6145             $17.5–18.4 million\n",
       "6234             $41.8–41.9 million\n",
       "6369                          $111k\n",
       "6370                           $588\n",
       "6593                 less than $372\n",
       "6843                        8 crore\n",
       "Name: Box office, dtype: object"
      ]
     },
     "execution_count": 33,
     "metadata": {},
     "output_type": "execute_result"
    }
   ],
   "source": [
    "box_office[~matches_form_one & ~matches_form_two]"
   ]
  },
  {
   "cell_type": "code",
   "execution_count": 34,
   "id": "08a0fa80",
   "metadata": {},
   "outputs": [],
   "source": [
    "box_office = box_office.str.replace(r'\\$.*[-—–](?![a-z])', '$', regex=True)"
   ]
  },
  {
   "cell_type": "code",
   "execution_count": 35,
   "id": "b780a518",
   "metadata": {},
   "outputs": [
    {
     "data": {
      "text/html": [
       "<div>\n",
       "<style scoped>\n",
       "    .dataframe tbody tr th:only-of-type {\n",
       "        vertical-align: middle;\n",
       "    }\n",
       "\n",
       "    .dataframe tbody tr th {\n",
       "        vertical-align: top;\n",
       "    }\n",
       "\n",
       "    .dataframe thead th {\n",
       "        text-align: right;\n",
       "    }\n",
       "</style>\n",
       "<table border=\"1\" class=\"dataframe\">\n",
       "  <thead>\n",
       "    <tr style=\"text-align: right;\">\n",
       "      <th></th>\n",
       "      <th>0</th>\n",
       "    </tr>\n",
       "  </thead>\n",
       "  <tbody>\n",
       "    <tr>\n",
       "      <th>0</th>\n",
       "      <td>$21.4 million</td>\n",
       "    </tr>\n",
       "    <tr>\n",
       "      <th>1</th>\n",
       "      <td>$2.7 million</td>\n",
       "    </tr>\n",
       "    <tr>\n",
       "      <th>2</th>\n",
       "      <td>$57,718,089</td>\n",
       "    </tr>\n",
       "    <tr>\n",
       "      <th>3</th>\n",
       "      <td>$7,331,647</td>\n",
       "    </tr>\n",
       "    <tr>\n",
       "      <th>4</th>\n",
       "      <td>$6,939,946</td>\n",
       "    </tr>\n",
       "    <tr>\n",
       "      <th>...</th>\n",
       "      <td>...</td>\n",
       "    </tr>\n",
       "    <tr>\n",
       "      <th>7070</th>\n",
       "      <td>$19.4 million</td>\n",
       "    </tr>\n",
       "    <tr>\n",
       "      <th>7071</th>\n",
       "      <td>$41.9 million</td>\n",
       "    </tr>\n",
       "    <tr>\n",
       "      <th>7072</th>\n",
       "      <td>$76.1 million</td>\n",
       "    </tr>\n",
       "    <tr>\n",
       "      <th>7073</th>\n",
       "      <td>$38.4 million</td>\n",
       "    </tr>\n",
       "    <tr>\n",
       "      <th>7074</th>\n",
       "      <td>$5.5 million</td>\n",
       "    </tr>\n",
       "  </tbody>\n",
       "</table>\n",
       "<p>5485 rows × 1 columns</p>\n",
       "</div>"
      ],
      "text/plain": [
       "                  0\n",
       "0     $21.4 million\n",
       "1      $2.7 million\n",
       "2       $57,718,089\n",
       "3        $7,331,647\n",
       "4        $6,939,946\n",
       "...             ...\n",
       "7070  $19.4 million\n",
       "7071  $41.9 million\n",
       "7072  $76.1 million\n",
       "7073  $38.4 million\n",
       "7074   $5.5 million\n",
       "\n",
       "[5485 rows x 1 columns]"
      ]
     },
     "execution_count": 35,
     "metadata": {},
     "output_type": "execute_result"
    }
   ],
   "source": [
    "box_office.str.extract(f'({form_one}|{form_two})')"
   ]
  },
  {
   "cell_type": "markdown",
   "id": "b495ba74",
   "metadata": {},
   "source": [
    "## Create parse dollars function"
   ]
  },
  {
   "cell_type": "code",
   "execution_count": 36,
   "id": "55235b05",
   "metadata": {},
   "outputs": [],
   "source": [
    "def parse_dollars(s):\n",
    "    # if s is not a string, return NaN\n",
    "    if type(s) != str:\n",
    "        return np.nan\n",
    "\n",
    "    # if input is of the form $###.# million\n",
    "    if re.match(r'\\$\\s*\\d+\\.?\\d*\\s*milli?on', s, flags=re.IGNORECASE):\n",
    "\n",
    "        # remove dollar sign and \" million\"\n",
    "        s = re.sub('\\$|\\s|[a-zA-Z]','', s)\n",
    "\n",
    "        # convert to float and multiply by a million\n",
    "        value = float(s) * 10**6\n",
    "\n",
    "        # return value\n",
    "        return value\n",
    "\n",
    "    # if input is of the form $###.# billion\n",
    "    elif re.match(r'\\$\\s*\\d+\\.?\\d*\\s*billi?on', s, flags=re.IGNORECASE):\n",
    "\n",
    "        # remove dollar sign and \" billion\"\n",
    "        s = re.sub('\\$|\\s|[a-zA-Z]','', s)\n",
    "\n",
    "        # convert to float and multiply by a billion\n",
    "        value = float(s) * 10**9\n",
    "\n",
    "        # return value\n",
    "        return value\n",
    "\n",
    "    # if input is of the form $###,###,###\n",
    "    elif re.match(r'\\$\\s*\\d{1,3}(?:[,\\.]\\d{3})+(?!\\s[mb]illion)', s, flags=re.IGNORECASE):\n",
    "\n",
    "        # remove dollar sign and commas\n",
    "        s = re.sub('\\$|,','', s)\n",
    "\n",
    "        # convert to float\n",
    "        value = float(s)\n",
    "\n",
    "        # return value\n",
    "        return value\n",
    "\n",
    "    # otherwise, return NaN\n",
    "    else:\n",
    "        return np.nan"
   ]
  },
  {
   "cell_type": "code",
   "execution_count": 37,
   "id": "1d27fe55",
   "metadata": {},
   "outputs": [],
   "source": [
    "wiki_movies_df['box_office'] = box_office.str.extract(f'({form_one}|{form_two})', flags=re.IGNORECASE)[0].apply(parse_dollars)"
   ]
  },
  {
   "cell_type": "code",
   "execution_count": 38,
   "id": "8aee0671",
   "metadata": {},
   "outputs": [
    {
     "data": {
      "text/plain": [
       "0       21400000.0\n",
       "1        2700000.0\n",
       "2       57718089.0\n",
       "3        7331647.0\n",
       "4        6939946.0\n",
       "           ...    \n",
       "7071    41900000.0\n",
       "7072    76100000.0\n",
       "7073    38400000.0\n",
       "7074     5500000.0\n",
       "7075           NaN\n",
       "Name: box_office, Length: 7033, dtype: float64"
      ]
     },
     "execution_count": 38,
     "metadata": {},
     "output_type": "execute_result"
    }
   ],
   "source": [
    "wiki_movies_df['box_office']"
   ]
  },
  {
   "cell_type": "code",
   "execution_count": 39,
   "id": "38ea2e80",
   "metadata": {},
   "outputs": [],
   "source": [
    "wiki_movies_df.drop('Box office', axis=1, inplace=True)"
   ]
  },
  {
   "cell_type": "code",
   "execution_count": 47,
   "id": "5ee4c9e4",
   "metadata": {},
   "outputs": [],
   "source": [
    "budget = wiki_movies_df['Budget'].dropna()"
   ]
  },
  {
   "cell_type": "code",
   "execution_count": 48,
   "id": "0bd406b0",
   "metadata": {},
   "outputs": [],
   "source": [
    "budget = budget.map(lambda x: ' '.join(x) if type(x) == list else x)"
   ]
  },
  {
   "cell_type": "code",
   "execution_count": 49,
   "id": "b493bfa9",
   "metadata": {},
   "outputs": [],
   "source": [
    "budget = budget.str.replace(r'\\$.*[---](?![a-z])', \"$\", regex = True)"
   ]
  },
  {
   "cell_type": "code",
   "execution_count": 50,
   "id": "53b8c4a2",
   "metadata": {},
   "outputs": [
    {
     "data": {
      "text/plain": [
       "110                     $5–7 million\n",
       "136                          Unknown\n",
       "196     $6.5–10 million [1] [Note 1]\n",
       "204      60 million Norwegian Kroner\n",
       "235                   $50–65 million\n",
       "                    ...             \n",
       "7062                $100–150 million\n",
       "7066                $160–200 million\n",
       "7067                $102–135 million\n",
       "7068                  $39–50 million\n",
       "7070                    €4.3 million\n",
       "Name: Budget, Length: 230, dtype: object"
      ]
     },
     "execution_count": 50,
     "metadata": {},
     "output_type": "execute_result"
    }
   ],
   "source": [
    "matches_form_one = budget.str.contains(form_one, flags=re.IGNORECASE, na=False)\n",
    "matches_form_two = budget.str.contains(form_two, flags=re.IGNORECASE, na=False)\n",
    "budget[~matches_form_one & ~matches_form_two]"
   ]
  },
  {
   "cell_type": "code",
   "execution_count": 51,
   "id": "ac6860c7",
   "metadata": {},
   "outputs": [
    {
     "name": "stderr",
     "output_type": "stream",
     "text": [
      "/Users/chaseweaver/opt/anaconda3/envs/PythonData/lib/python3.7/site-packages/ipykernel_launcher.py:1: FutureWarning: The default value of regex will change from True to False in a future version.\n",
      "  \"\"\"Entry point for launching an IPython kernel.\n"
     ]
    },
    {
     "data": {
      "text/plain": [
       "110                    $5–7 million\n",
       "136                         Unknown\n",
       "196        $6.5–10 million [Note 1]\n",
       "204     60 million Norwegian Kroner\n",
       "235                  $50–65 million\n",
       "                   ...             \n",
       "7062               $100–150 million\n",
       "7066               $160–200 million\n",
       "7067               $102–135 million\n",
       "7068                 $39–50 million\n",
       "7070                   €4.3 million\n",
       "Name: Budget, Length: 230, dtype: object"
      ]
     },
     "execution_count": 51,
     "metadata": {},
     "output_type": "execute_result"
    }
   ],
   "source": [
    "budget = budget.str.replace(r'\\[\\d+\\]\\s*', '')\n",
    "budget[~matches_form_one & ~matches_form_two]"
   ]
  },
  {
   "cell_type": "code",
   "execution_count": 52,
   "id": "ca5950f6",
   "metadata": {},
   "outputs": [],
   "source": [
    "wiki_movies_df['budget'] = budget.str.extract(f'({form_one}|{form_two})', flags=re.IGNORECASE)[0].apply(parse_dollars)"
   ]
  },
  {
   "cell_type": "code",
   "execution_count": 53,
   "id": "cd5d8d4d",
   "metadata": {},
   "outputs": [],
   "source": [
    "wiki_movies_df.drop('Budget', axis=1, inplace=True)"
   ]
  },
  {
   "cell_type": "code",
   "execution_count": 54,
   "id": "44668fd5",
   "metadata": {},
   "outputs": [
    {
     "data": {
      "text/plain": [
       "0       20000000.0\n",
       "1        6000000.0\n",
       "2       35000000.0\n",
       "3       12000000.0\n",
       "4       25000000.0\n",
       "           ...    \n",
       "7071    42000000.0\n",
       "7072    60000000.0\n",
       "7073    20000000.0\n",
       "7074     9000000.0\n",
       "7075           NaN\n",
       "Name: budget, Length: 7033, dtype: float64"
      ]
     },
     "execution_count": 54,
     "metadata": {},
     "output_type": "execute_result"
    }
   ],
   "source": [
    "wiki_movies_df['budget']"
   ]
  },
  {
   "cell_type": "markdown",
   "id": "b170dd2b",
   "metadata": {},
   "source": [
    "## Parse release date"
   ]
  },
  {
   "cell_type": "code",
   "execution_count": 55,
   "id": "2b48fe9f",
   "metadata": {},
   "outputs": [],
   "source": [
    "release_date = wiki_movies_df['Release date'].dropna().apply(lambda x: ' '.join(x) if type(x) == list else x)"
   ]
  },
  {
   "cell_type": "code",
   "execution_count": 56,
   "id": "59805b1a",
   "metadata": {},
   "outputs": [],
   "source": [
    "date_form_one = r'(?:January|February|March|April|May|June|July|August|September|October|November|December)\\s[123]?\\d,\\s\\d{4}'\n",
    "date_form_two = r'\\d{4}.[01]\\d.[0123]\\d'\n",
    "date_form_three = r'(?:January|February|March|April|May|June|July|August|September|October|November|December)\\s\\d{4}'\n",
    "date_form_four = r'\\d{4}'"
   ]
  },
  {
   "cell_type": "code",
   "execution_count": 57,
   "id": "2bc9dc16",
   "metadata": {},
   "outputs": [
    {
     "data": {
      "text/html": [
       "<div>\n",
       "<style scoped>\n",
       "    .dataframe tbody tr th:only-of-type {\n",
       "        vertical-align: middle;\n",
       "    }\n",
       "\n",
       "    .dataframe tbody tr th {\n",
       "        vertical-align: top;\n",
       "    }\n",
       "\n",
       "    .dataframe thead th {\n",
       "        text-align: right;\n",
       "    }\n",
       "</style>\n",
       "<table border=\"1\" class=\"dataframe\">\n",
       "  <thead>\n",
       "    <tr style=\"text-align: right;\">\n",
       "      <th></th>\n",
       "      <th>0</th>\n",
       "    </tr>\n",
       "  </thead>\n",
       "  <tbody>\n",
       "    <tr>\n",
       "      <th>0</th>\n",
       "      <td>July 11, 1990</td>\n",
       "    </tr>\n",
       "    <tr>\n",
       "      <th>1</th>\n",
       "      <td>May 17, 1990</td>\n",
       "    </tr>\n",
       "    <tr>\n",
       "      <th>2</th>\n",
       "      <td>August 10, 1990</td>\n",
       "    </tr>\n",
       "    <tr>\n",
       "      <th>3</th>\n",
       "      <td>December 25, 1990</td>\n",
       "    </tr>\n",
       "    <tr>\n",
       "      <th>4</th>\n",
       "      <td>December 19, 1990</td>\n",
       "    </tr>\n",
       "    <tr>\n",
       "      <th>...</th>\n",
       "      <td>...</td>\n",
       "    </tr>\n",
       "    <tr>\n",
       "      <th>7071</th>\n",
       "      <td>December 25, 2018</td>\n",
       "    </tr>\n",
       "    <tr>\n",
       "      <th>7072</th>\n",
       "      <td>December 11, 2018</td>\n",
       "    </tr>\n",
       "    <tr>\n",
       "      <th>7073</th>\n",
       "      <td>November 8, 2018</td>\n",
       "    </tr>\n",
       "    <tr>\n",
       "      <th>7074</th>\n",
       "      <td>August 31, 2018</td>\n",
       "    </tr>\n",
       "    <tr>\n",
       "      <th>7075</th>\n",
       "      <td>December 2018</td>\n",
       "    </tr>\n",
       "  </tbody>\n",
       "</table>\n",
       "<p>7001 rows × 1 columns</p>\n",
       "</div>"
      ],
      "text/plain": [
       "                      0\n",
       "0         July 11, 1990\n",
       "1          May 17, 1990\n",
       "2       August 10, 1990\n",
       "3     December 25, 1990\n",
       "4     December 19, 1990\n",
       "...                 ...\n",
       "7071  December 25, 2018\n",
       "7072  December 11, 2018\n",
       "7073   November 8, 2018\n",
       "7074    August 31, 2018\n",
       "7075      December 2018\n",
       "\n",
       "[7001 rows x 1 columns]"
      ]
     },
     "execution_count": 57,
     "metadata": {},
     "output_type": "execute_result"
    }
   ],
   "source": [
    "release_date.str.extract(f'({date_form_one}|{date_form_two}|{date_form_three}|{date_form_four})', flags=re.IGNORECASE)"
   ]
  },
  {
   "cell_type": "markdown",
   "id": "5a657163",
   "metadata": {},
   "source": [
    "## Parse Running Time"
   ]
  },
  {
   "cell_type": "code",
   "execution_count": 58,
   "id": "d4f5bb4a",
   "metadata": {},
   "outputs": [],
   "source": [
    "running_time = wiki_movies_df['Running time'].dropna().apply(lambda x: ' '.join(x) if type(x) == list else x)"
   ]
  },
  {
   "cell_type": "code",
   "execution_count": 59,
   "id": "c6b6b383",
   "metadata": {},
   "outputs": [
    {
     "data": {
      "text/plain": [
       "6528"
      ]
     },
     "execution_count": 59,
     "metadata": {},
     "output_type": "execute_result"
    }
   ],
   "source": [
    "running_time.str.contains(r'^\\d*\\s*minutes$', flags=re.IGNORECASE, na=False).sum()"
   ]
  },
  {
   "cell_type": "code",
   "execution_count": 60,
   "id": "93710d8c",
   "metadata": {},
   "outputs": [
    {
     "data": {
      "text/plain": [
       "9                                                 102 min\n",
       "26                                                 93 min\n",
       "28                                                32 min.\n",
       "34                                                101 min\n",
       "35                                                 97 min\n",
       "                              ...                        \n",
       "6500       114 minutes [1] 120 minutes (extended edition)\n",
       "6643                                             104 mins\n",
       "6709    90 minutes (theatrical) [1] 91 minutes (unrate...\n",
       "7057    108 minutes (Original cut) 98 minutes (UK cut)...\n",
       "7075                Variable; 90 minutes for default path\n",
       "Name: Running time, Length: 366, dtype: object"
      ]
     },
     "execution_count": 60,
     "metadata": {},
     "output_type": "execute_result"
    }
   ],
   "source": [
    "running_time[running_time.str.contains(r'^\\d*\\s*minutes$', flags=re.IGNORECASE, na=False) != True]"
   ]
  },
  {
   "cell_type": "code",
   "execution_count": 61,
   "id": "0730ca79",
   "metadata": {},
   "outputs": [
    {
     "data": {
      "text/plain": [
       "6877"
      ]
     },
     "execution_count": 61,
     "metadata": {},
     "output_type": "execute_result"
    }
   ],
   "source": [
    "running_time.str.contains(r'^\\d*\\s*m', flags=re.IGNORECASE, na=False).sum()"
   ]
  },
  {
   "cell_type": "code",
   "execution_count": 62,
   "id": "c90f5650",
   "metadata": {},
   "outputs": [
    {
     "data": {
      "text/plain": [
       "668                     UK:84 min (DVD version) US:86 min\n",
       "727                         78-102 min (depending on cut)\n",
       "840                       Varies (79 [3] –84 [1] minutes)\n",
       "1347                                              25 : 03\n",
       "1443    United States: 77 minutes Argentina: 94 minute...\n",
       "1499                                            1hr 35min\n",
       "1551                                               varies\n",
       "1774                    Netherlands:96 min, Canada:95 min\n",
       "1777                                       approx. 14 min\n",
       "2273                                           1 h 43 min\n",
       "2993                                               1h 48m\n",
       "3925                                              4 hours\n",
       "4425    US domestic version: 86 minutes Original versi...\n",
       "4967    Theatrical cut: 97 minutes Unrated cut: 107 mi...\n",
       "5424                    115 [1] /123 [2] /128 [3] minutes\n",
       "5447                                    1 hour 32 minutes\n",
       "7075                Variable; 90 minutes for default path\n",
       "Name: Running time, dtype: object"
      ]
     },
     "execution_count": 62,
     "metadata": {},
     "output_type": "execute_result"
    }
   ],
   "source": [
    "running_time[running_time.str.contains(r'^\\d*\\s*m', flags=re.IGNORECASE, na=False) != True]"
   ]
  },
  {
   "cell_type": "code",
   "execution_count": null,
   "id": "c59d61d3",
   "metadata": {},
   "outputs": [],
   "source": [
    "running_time_extract = running_time.str.extract(r'(\\d+)\\s*ho?u?r?s?\\s*(\\d*)|(\\d+)\\s*m')"
   ]
  },
  {
   "cell_type": "code",
   "execution_count": null,
   "id": "cf6a2307",
   "metadata": {},
   "outputs": [],
   "source": [
    "running_time_extract = running_time_extract.apply(lambda col: pd.to_numeric(col, errors='coerce')).fillna(0)"
   ]
  },
  {
   "cell_type": "code",
   "execution_count": null,
   "id": "5e3af752",
   "metadata": {},
   "outputs": [],
   "source": [
    "wiki_movies_df['running_time'] = running_time_extract.apply(lambda row: row[0]*60 + row[1] if row[2] == 0 else row[2], axis=1)"
   ]
  },
  {
   "cell_type": "code",
   "execution_count": null,
   "id": "8e5fe25b",
   "metadata": {},
   "outputs": [],
   "source": [
    "wiki_movies_df.drop('Running time', axis=1, inplace=True)"
   ]
  },
  {
   "cell_type": "code",
   "execution_count": null,
   "id": "c2990689",
   "metadata": {},
   "outputs": [],
   "source": [
    "wiki_movies_df['running_time']"
   ]
  },
  {
   "cell_type": "markdown",
   "id": "ddfe83bc",
   "metadata": {},
   "source": [
    "# Cleaning Kaggle Data"
   ]
  },
  {
   "cell_type": "code",
   "execution_count": null,
   "id": "d6a58111",
   "metadata": {},
   "outputs": [],
   "source": [
    "kaggle_metadata.dtypes"
   ]
  },
  {
   "cell_type": "code",
   "execution_count": null,
   "id": "47498491",
   "metadata": {},
   "outputs": [],
   "source": [
    "kaggle_metadata['adult'].value_counts()"
   ]
  },
  {
   "cell_type": "code",
   "execution_count": null,
   "id": "518e9aca",
   "metadata": {},
   "outputs": [],
   "source": [
    "kaggle_metadata[~kaggle_metadata['adult'].isin(['True','False'])]"
   ]
  },
  {
   "cell_type": "code",
   "execution_count": null,
   "id": "385c80f0",
   "metadata": {},
   "outputs": [],
   "source": [
    "kaggle_metadata = kaggle_metadata[kaggle_metadata['adult'] == 'False'].drop('adult',axis='columns')"
   ]
  },
  {
   "cell_type": "code",
   "execution_count": null,
   "id": "9d2cfffc",
   "metadata": {},
   "outputs": [],
   "source": [
    "kaggle_metadata['video'].value_counts()"
   ]
  },
  {
   "cell_type": "code",
   "execution_count": null,
   "id": "07f1edd0",
   "metadata": {},
   "outputs": [],
   "source": [
    "kaggle_metadata['video'] = kaggle_metadata['video'] == 'True'"
   ]
  },
  {
   "cell_type": "code",
   "execution_count": null,
   "id": "1874898f",
   "metadata": {},
   "outputs": [],
   "source": [
    "kaggle_metadata['budget'] = kaggle_metadata['budget'].astype(int)\n",
    "kaggle_metadata['id'] = pd.to_numeric(kaggle_metadata['id'], errors='raise')\n",
    "kaggle_metadata['popularity'] = pd.to_numeric(kaggle_metadata['popularity'], errors='raise')"
   ]
  },
  {
   "cell_type": "code",
   "execution_count": null,
   "id": "db1c9830",
   "metadata": {},
   "outputs": [],
   "source": [
    "kaggle_metadata['release_date']= pd.to_datetime(kaggle_metadata['release_date'])"
   ]
  },
  {
   "cell_type": "code",
   "execution_count": null,
   "id": "4cdfc38c",
   "metadata": {},
   "outputs": [],
   "source": [
    "# ratings.info(null_counts=True)\n",
    "\n",
    "kaggle_metadata[kaggle_metadata[\"budget\"] == 0]"
   ]
  },
  {
   "cell_type": "code",
   "execution_count": null,
   "id": "2fca26c4",
   "metadata": {},
   "outputs": [],
   "source": [
    "ratings['timestamp'] = pd.to_datetime(ratings['timestamp'], unit='s')"
   ]
  },
  {
   "cell_type": "code",
   "execution_count": null,
   "id": "2711abde",
   "metadata": {},
   "outputs": [],
   "source": [
    "pd.options.display.float_format = '{:20,.2f}'.format\n",
    "ratings['rating'].plot(kind='hist')\n",
    "ratings['rating'].describe()"
   ]
  },
  {
   "cell_type": "code",
   "execution_count": null,
   "id": "946708a7",
   "metadata": {},
   "outputs": [],
   "source": [
    "#wiki_movies_df['release_date'] = wiki_movies_df[\"Release date\"]\n",
    "#wiki_movies_df.drop('Release date', axis=1, inplace=True)\n",
    "wiki_movies_df.columns"
   ]
  },
  {
   "cell_type": "code",
   "execution_count": null,
   "id": "4583cce2",
   "metadata": {},
   "outputs": [],
   "source": [
    "movies_df = pd.merge(wiki_movies_df, kaggle_metadata, on='imdb_id', suffixes=['_wiki','_kaggle'])"
   ]
  },
  {
   "cell_type": "code",
   "execution_count": null,
   "id": "85d2cc24",
   "metadata": {},
   "outputs": [],
   "source": [
    "# Competing data:\n",
    "# Wiki                     Movielens                Resolution\n",
    "#--------------------------------------------------------------------------\n",
    "# title_wiki               title_kaggle             drop wikipedia\n",
    "# running_time             runtime                  keep kaggle, fill in zeroes w wiki data\n",
    "# budget_wiki              budget_kaggle\n",
    "# box_office               revenue\n",
    "# release_date_wiki        release_date_kaggle\n",
    "# Language                 original_language\n",
    "# Production company(s)    production_companies"
   ]
  },
  {
   "cell_type": "code",
   "execution_count": null,
   "id": "cf0a1b20",
   "metadata": {},
   "outputs": [],
   "source": [
    "movies_df[['budget_wiki','budget_kaggle']]"
   ]
  },
  {
   "cell_type": "code",
   "execution_count": null,
   "id": "2148bbbf",
   "metadata": {},
   "outputs": [],
   "source": [
    "movies_df[movies_df['title_wiki'] != movies_df['title_kaggle']][['title_wiki','title_kaggle']]"
   ]
  },
  {
   "cell_type": "code",
   "execution_count": null,
   "id": "2fbe572f",
   "metadata": {},
   "outputs": [],
   "source": [
    "# Show any rows where title_kaggle is empty\n",
    "movies_df[(movies_df['title_kaggle'] == '') | (movies_df['title_kaggle'].isnull())]"
   ]
  },
  {
   "cell_type": "code",
   "execution_count": null,
   "id": "14af71c7",
   "metadata": {},
   "outputs": [],
   "source": [
    "movies_df.fillna(0).plot(x='running_time', y='runtime', kind='scatter')"
   ]
  },
  {
   "cell_type": "code",
   "execution_count": null,
   "id": "194d1113",
   "metadata": {},
   "outputs": [],
   "source": [
    "movies_df.fillna(0).plot(x='budget_wiki', y='budget_kaggle', kind = 'scatter')"
   ]
  },
  {
   "cell_type": "code",
   "execution_count": null,
   "id": "ebf10610",
   "metadata": {},
   "outputs": [],
   "source": [
    "movies_df.fillna(0).plot(x='box_office', y='revenue', kind='scatter')"
   ]
  },
  {
   "cell_type": "code",
   "execution_count": null,
   "id": "9d86a327",
   "metadata": {},
   "outputs": [],
   "source": [
    "movies_df.fillna(0)[movies_df['box_office'] < 10**9].plot(x='box_office', y='revenue', kind='scatter')"
   ]
  },
  {
   "cell_type": "code",
   "execution_count": null,
   "id": "e1a93174",
   "metadata": {},
   "outputs": [],
   "source": [
    "movies_df[['release_date_wiki','release_date_kaggle']].plot(x='release_date_wiki', y='release_date_kaggle', style='.')"
   ]
  },
  {
   "cell_type": "code",
   "execution_count": null,
   "id": "3aae47de",
   "metadata": {},
   "outputs": [],
   "source": [
    "movies_df[(movies_df['release_date_wiki'] > '1996-01-01') & (movies_df['release_date_kaggle'] < '1965-01-01')]"
   ]
  },
  {
   "cell_type": "code",
   "execution_count": null,
   "id": "90c2fc94",
   "metadata": {},
   "outputs": [],
   "source": [
    "movies_df[movies_df['release_date_wiki'].isnull()]"
   ]
  },
  {
   "cell_type": "code",
   "execution_count": null,
   "id": "f7a132a0",
   "metadata": {},
   "outputs": [],
   "source": []
  },
  {
   "cell_type": "code",
   "execution_count": null,
   "id": "95d815a6",
   "metadata": {},
   "outputs": [],
   "source": []
  },
  {
   "cell_type": "code",
   "execution_count": null,
   "id": "d49b5b94",
   "metadata": {},
   "outputs": [],
   "source": []
  },
  {
   "cell_type": "code",
   "execution_count": null,
   "id": "8f4ad6e4",
   "metadata": {},
   "outputs": [],
   "source": []
  },
  {
   "cell_type": "code",
   "execution_count": null,
   "id": "79f5a4c5",
   "metadata": {},
   "outputs": [],
   "source": []
  },
  {
   "cell_type": "code",
   "execution_count": null,
   "id": "47cb6229",
   "metadata": {},
   "outputs": [],
   "source": []
  },
  {
   "cell_type": "code",
   "execution_count": null,
   "id": "172b209c",
   "metadata": {},
   "outputs": [],
   "source": []
  }
 ],
 "metadata": {
  "kernelspec": {
   "display_name": "Python 3 (ipykernel)",
   "language": "python",
   "name": "python3"
  },
  "language_info": {
   "codemirror_mode": {
    "name": "ipython",
    "version": 3
   },
   "file_extension": ".py",
   "mimetype": "text/x-python",
   "name": "python",
   "nbconvert_exporter": "python",
   "pygments_lexer": "ipython3",
   "version": "3.7.13"
  }
 },
 "nbformat": 4,
 "nbformat_minor": 5
}
